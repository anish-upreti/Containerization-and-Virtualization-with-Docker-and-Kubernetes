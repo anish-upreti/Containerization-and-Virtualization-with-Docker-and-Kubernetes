{
 "cells": [
  {
   "cell_type": "markdown",
   "id": "a59ebca7",
   "metadata": {},
   "source": [
    "Note: Code snippets and notes are based on \"Containerization and Virtualization with Docker and Kubernetes\" track from DataCamp. Also some contents are AI generated."
   ]
  },
  {
   "cell_type": "markdown",
   "id": "f460221d",
   "metadata": {},
   "source": []
  },
  {
   "cell_type": "markdown",
   "id": "d25e654c",
   "metadata": {},
   "source": []
  },
  {
   "cell_type": "markdown",
   "id": "9da841cd",
   "metadata": {},
   "source": []
  }
 ],
 "metadata": {
  "kernelspec": {
   "display_name": "base",
   "language": "python",
   "name": "python3"
  },
  "language_info": {
   "name": "python",
   "version": "3.12.4"
  }
 },
 "nbformat": 4,
 "nbformat_minor": 5
}
